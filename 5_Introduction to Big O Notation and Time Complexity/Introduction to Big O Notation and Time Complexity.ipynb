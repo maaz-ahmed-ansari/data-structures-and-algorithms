{
 "cells": [
  {
   "cell_type": "code",
   "execution_count": 1,
   "id": "ba39063c",
   "metadata": {},
   "outputs": [],
   "source": [
    "# Big O Notation and Time Complexity\n",
    "# Describes time it takes to run your function increases/grows\n",
    "# as size of the input (to your function) grows"
   ]
  },
  {
   "cell_type": "code",
   "execution_count": 2,
   "id": "3498ad56",
   "metadata": {},
   "outputs": [],
   "source": [
    "# time complexity = a wasy of showing how the runtime\n",
    "# of a function increases as the size of the input increases\n",
    "\n",
    "# e.g. linear time ( O(n) ), constant time ( O(1) ), quadratic time( O(n^2)) \n",
    "# independent of machine"
   ]
  },
  {
   "cell_type": "code",
   "execution_count": 3,
   "id": "ece476d0",
   "metadata": {},
   "outputs": [],
   "source": [
    "# e.g. O(n)\n",
    "\n",
    "given_array = []\n",
    "def sum_array(given_array):\n",
    "    total = 0   # O(1)\n",
    "    for i in given_array:  # O(1)\n",
    "        total += i # O(1)\n",
    "    return total\n",
    "\n",
    "# T = O(1) + n*O(1) + O(1) = c1 + n*c2 = O(n)"
   ]
  },
  {
   "cell_type": "code",
   "execution_count": 4,
   "id": "2fb4dd60",
   "metadata": {},
   "outputs": [],
   "source": [
    "# e.g. O(1)\n",
    "\n",
    "def stupid_function(given_array):\n",
    "    total = 0     # -> O(1)\n",
    "    return total  # -> O(1)\n",
    "\n",
    "# T = O(1)+O(1) = c1 + c2 = c3 = c3 * 1 = O(1)"
   ]
  },
  {
   "cell_type": "code",
   "execution_count": 5,
   "id": "05a4cf40",
   "metadata": {},
   "outputs": [],
   "source": [
    "array_2d = [\n",
    "    [1, 4, 3],\n",
    "    [3, 1, 9],\n",
    "    [0, 5, 2]\n",
    "]\n",
    "\n",
    "def find_sum_2d(array_2d):\n",
    "    total = 0   # O(1)\n",
    "    for row in array_2d:\n",
    "        for i in row:\n",
    "            total += i  # O(1)\n",
    "    return total   # O(1)\n",
    "\n",
    "# T = O(1) + n^2 * O(1) + O(1) = c1 + n^2 * c2 + c3 = O(n^2)"
   ]
  }
 ],
 "metadata": {
  "kernelspec": {
   "display_name": "Python 3 (ipykernel)",
   "language": "python",
   "name": "python3"
  },
  "language_info": {
   "codemirror_mode": {
    "name": "ipython",
    "version": 3
   },
   "file_extension": ".py",
   "mimetype": "text/x-python",
   "name": "python",
   "nbconvert_exporter": "python",
   "pygments_lexer": "ipython3",
   "version": "3.11.2"
  }
 },
 "nbformat": 4,
 "nbformat_minor": 5
}
