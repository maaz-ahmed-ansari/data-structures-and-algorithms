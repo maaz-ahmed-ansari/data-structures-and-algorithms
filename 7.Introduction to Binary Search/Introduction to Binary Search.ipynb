{
 "cells": [
  {
   "cell_type": "code",
   "execution_count": 1,
   "id": "3a4698d8",
   "metadata": {},
   "outputs": [],
   "source": [
    "# Time complexity for binary search is O(log n)  -> Big O of log base 2 of n"
   ]
  },
  {
   "cell_type": "code",
   "execution_count": 2,
   "id": "289af864",
   "metadata": {},
   "outputs": [],
   "source": [
    "def search(arr, target):\n",
    "    left = 0\n",
    "    right = len(arr) - 1\n",
    "    while left <= right:\n",
    "        mid = (left + right) // 2   # round it down\n",
    "        if arr[mid] == target:\n",
    "            return mid\n",
    "        elif target < arr[mid]:\n",
    "            right = mid - 1\n",
    "            if arr[left] == target:\n",
    "                return left      # additional to scan for new left index\n",
    "        else:\n",
    "            left = mid + 1\n",
    "            if arr[right] == target:\n",
    "                return right    # additional to scan for new right index\n",
    "    return -1"
   ]
  },
  {
   "cell_type": "code",
   "execution_count": 3,
   "id": "9bc7380a",
   "metadata": {},
   "outputs": [
    {
     "data": {
      "text/plain": [
       "6"
      ]
     },
     "execution_count": 3,
     "metadata": {},
     "output_type": "execute_result"
    }
   ],
   "source": [
    "search([-2,3,4,7,8,9,11,13], 11)"
   ]
  },
  {
   "cell_type": "code",
   "execution_count": 4,
   "id": "517b445f",
   "metadata": {},
   "outputs": [
    {
     "data": {
      "text/plain": [
       "-1"
      ]
     },
     "execution_count": 4,
     "metadata": {},
     "output_type": "execute_result"
    }
   ],
   "source": [
    "search([-2,3,4,7,8,9,11,13], 12)"
   ]
  },
  {
   "cell_type": "code",
   "execution_count": 5,
   "id": "0e9f86c2",
   "metadata": {},
   "outputs": [],
   "source": [
    "arr1 = [-2, 3, 4, 7, 8, 9, 11, 13]\n",
    "assert search(arr1, 11) == 6\n",
    "assert search(arr1, 13) == 7\n",
    "assert search(arr1, -2) == 0\n",
    "assert search(arr1, 8) == 4\n",
    "assert search(arr1, 6) == -1\n",
    "assert search(arr1, 14) == -1\n",
    "assert search(arr1, -4) == -1"
   ]
  },
  {
   "cell_type": "code",
   "execution_count": 6,
   "id": "2189490e",
   "metadata": {},
   "outputs": [],
   "source": [
    "arr2 = [3]\n",
    "assert search(arr2, 6) == -1\n",
    "assert search(arr2, 2) == -1\n",
    "assert search(arr2, 3) == 0"
   ]
  },
  {
   "cell_type": "code",
   "execution_count": 7,
   "id": "93b07243",
   "metadata": {},
   "outputs": [
    {
     "name": "stdout",
     "output_type": "stream",
     "text": [
      "If you didn't get an assertion error, this program has run successfully.\n"
     ]
    }
   ],
   "source": [
    "print(\"If you didn't get an assertion error, this program has run successfully.\")"
   ]
  },
  {
   "cell_type": "code",
   "execution_count": null,
   "id": "db96fa21",
   "metadata": {},
   "outputs": [],
   "source": []
  }
 ],
 "metadata": {
  "kernelspec": {
   "display_name": "Python 3 (ipykernel)",
   "language": "python",
   "name": "python3"
  },
  "language_info": {
   "codemirror_mode": {
    "name": "ipython",
    "version": 3
   },
   "file_extension": ".py",
   "mimetype": "text/x-python",
   "name": "python",
   "nbconvert_exporter": "python",
   "pygments_lexer": "ipython3",
   "version": "3.11.2"
  }
 },
 "nbformat": 4,
 "nbformat_minor": 5
}
