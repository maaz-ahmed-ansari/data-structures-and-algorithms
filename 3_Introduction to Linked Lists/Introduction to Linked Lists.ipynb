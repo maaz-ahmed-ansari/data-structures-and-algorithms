{
 "cells": [
  {
   "cell_type": "code",
   "execution_count": 1,
   "id": "d8adf472",
   "metadata": {},
   "outputs": [],
   "source": [
    "class Node:\n",
    "    def __init__(self, data):\n",
    "        self.data = data\n",
    "        self.next = None"
   ]
  },
  {
   "cell_type": "code",
   "execution_count": 2,
   "id": "21c7da65",
   "metadata": {},
   "outputs": [],
   "source": [
    "# Define function to count no. of nodes in a LL\n",
    "\n",
    "def count_nodes(head):\n",
    "    if head.data != None:\n",
    "        count = 1\n",
    "    else: \n",
    "        count = 0\n",
    "\n",
    "    temp = head.next\n",
    "    while temp != None:\n",
    "        count += 1\n",
    "        temp = temp.next\n",
    "\n",
    "    return count"
   ]
  },
  {
   "cell_type": "code",
   "execution_count": 3,
   "id": "b2297e65",
   "metadata": {},
   "outputs": [
    {
     "name": "stdout",
     "output_type": "stream",
     "text": [
      "This linked list's length is: (should print 5)\n",
      "5\n"
     ]
    }
   ],
   "source": [
    "nodeA = Node(6)\n",
    "nodeB = Node(3)\n",
    "nodeC = Node(4)\n",
    "nodeD = Node(2)\n",
    "nodeE = Node(1)\n",
    "\n",
    "nodeA.next = nodeB\n",
    "nodeB.next = nodeC\n",
    "nodeC.next = nodeD\n",
    "nodeD.next = nodeE\n",
    "\n",
    "print(\"This linked list's length is: (should print 5)\")\n",
    "print(count_nodes(nodeA))\n"
   ]
  },
  {
   "cell_type": "code",
   "execution_count": 4,
   "id": "d4c597c8",
   "metadata": {},
   "outputs": [],
   "source": [
    "# A doubly LL had one pointer pointing to previous node\n",
    "# so it can traverse both next and prev\n",
    "\n",
    "# Node for doubly linked List\n",
    "\n",
    "class NodeDoubly:\n",
    "    def __init__(self, data):\n",
    "        self.data = data\n",
    "        self.next = None\n",
    "        self.prev = None"
   ]
  }
 ],
 "metadata": {
  "kernelspec": {
   "display_name": "Python 3 (ipykernel)",
   "language": "python",
   "name": "python3"
  },
  "language_info": {
   "codemirror_mode": {
    "name": "ipython",
    "version": 3
   },
   "file_extension": ".py",
   "mimetype": "text/x-python",
   "name": "python",
   "nbconvert_exporter": "python",
   "pygments_lexer": "ipython3",
   "version": "3.11.2"
  }
 },
 "nbformat": 4,
 "nbformat_minor": 5
}
