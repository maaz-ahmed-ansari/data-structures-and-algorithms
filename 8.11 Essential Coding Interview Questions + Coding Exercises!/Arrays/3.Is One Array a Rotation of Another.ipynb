{
 "cells": [
  {
   "cell_type": "markdown",
   "id": "cff684a4-3005-4894-bb0a-a4424a46be10",
   "metadata": {},
   "source": [
    "### Is One Array a Rotation of Another? (Python)\n",
    "\r\n",
    "Write a function that returns True if one array is a rotation of another.\r\n",
    "\r\n",
    "Example: [1, 2, 3, 4, 5, 6, 7] is a rotation of [4, 5, 6, 7, 1, 2, 3].\r\n",
    "\r\n",
    "NOTE: There are no duplicates in each of these arrays.\r\n",
    "\r\n",
    "REMINDER: We're going to use lists instead of arrays in Python for simplicity."
   ]
  },
  {
   "cell_type": "markdown",
   "id": "f5bb7ef6-33a4-476e-8879-8bd17dc21dd9",
   "metadata": {},
   "source": [
    "### Solution"
   ]
  },
  {
   "cell_type": "code",
   "execution_count": 1,
   "id": "5190714c-a82d-4e72-8bfa-d893d086c334",
   "metadata": {},
   "outputs": [],
   "source": [
    "def is_rotation(list1, list2):\n",
    "    len_list1 = len(list1)\n",
    "    len_list2 = len(list2)\n",
    "    if len_list1 != len_list2:\n",
    "        return False\n",
    "\n",
    "\n",
    "    key = list1[0]\n",
    "    key_i = -1\n",
    "    for j in range(len_list2):\n",
    "        if list2[j] == key:\n",
    "            key_i = j\n",
    "            break\n",
    "    if key_i == -1:\n",
    "        return False\n",
    "\n",
    "    for i in range(len_list1):\n",
    "        j = (key_i + i) % len_list1\n",
    "        if list1[i] != list2[j]:\n",
    "            return False\n",
    "\n",
    "    return True"
   ]
  },
  {
   "cell_type": "code",
   "execution_count": 2,
   "id": "ec279f6a-e5d1-452e-9ca0-5b27b24219e1",
   "metadata": {},
   "outputs": [
    {
     "data": {
      "text/plain": [
       "False"
      ]
     },
     "execution_count": 2,
     "metadata": {},
     "output_type": "execute_result"
    }
   ],
   "source": [
    "list1 = [1, 2, 3, 4, 5, 6, 7]\n",
    "list2a = [4, 5, 6, 7, 8, 1, 2, 3]\n",
    "is_rotation(list1, list2a)\n",
    "# should return False."
   ]
  },
  {
   "cell_type": "code",
   "execution_count": 3,
   "id": "2f40484d-6483-4a8a-b725-5ee12a134d0d",
   "metadata": {},
   "outputs": [
    {
     "data": {
      "text/plain": [
       "True"
      ]
     },
     "execution_count": 3,
     "metadata": {},
     "output_type": "execute_result"
    }
   ],
   "source": [
    "list2b = [4, 5, 6, 7, 1, 2, 3]\n",
    "is_rotation(list1, list2b)\n",
    " # should return True."
   ]
  },
  {
   "cell_type": "code",
   "execution_count": 4,
   "id": "e3a102bd-2197-4853-95a6-83d5c0506b12",
   "metadata": {},
   "outputs": [
    {
     "data": {
      "text/plain": [
       "False"
      ]
     },
     "execution_count": 4,
     "metadata": {},
     "output_type": "execute_result"
    }
   ],
   "source": [
    "list2c = [4, 5, 6, 9, 1, 2, 3]\n",
    "is_rotation(list1, list2c)\n",
    "# should return False."
   ]
  },
  {
   "cell_type": "code",
   "execution_count": 5,
   "id": "e67972af-2725-4aa2-ae9f-c3dfa020e160",
   "metadata": {},
   "outputs": [
    {
     "data": {
      "text/plain": [
       "False"
      ]
     },
     "execution_count": 5,
     "metadata": {},
     "output_type": "execute_result"
    }
   ],
   "source": [
    "list2d = [4, 6, 5, 7, 1, 2, 3]\n",
    "is_rotation(list1, list2d)\n",
    "# should return False."
   ]
  },
  {
   "cell_type": "code",
   "execution_count": 6,
   "id": "8f3fca6e-6935-4f8f-8222-b6887007705c",
   "metadata": {},
   "outputs": [
    {
     "data": {
      "text/plain": [
       "False"
      ]
     },
     "execution_count": 6,
     "metadata": {},
     "output_type": "execute_result"
    }
   ],
   "source": [
    "list2e = [4, 5, 6, 7, 0, 2, 3]\n",
    "is_rotation(list1, list2e)\n",
    "# should return False."
   ]
  },
  {
   "cell_type": "code",
   "execution_count": 7,
   "id": "c342db34-5650-402a-8678-f7ac6228e385",
   "metadata": {},
   "outputs": [
    {
     "data": {
      "text/plain": [
       "True"
      ]
     },
     "execution_count": 7,
     "metadata": {},
     "output_type": "execute_result"
    }
   ],
   "source": [
    "list2f = [1, 2, 3, 4, 5, 6, 7]\n",
    "is_rotation(list1, list2f)\n",
    " # should return True."
   ]
  },
  {
   "cell_type": "code",
   "execution_count": 8,
   "id": "1ce2a130-5a2f-4da2-bb00-cc975b736701",
   "metadata": {},
   "outputs": [
    {
     "data": {
      "text/plain": [
       "True"
      ]
     },
     "execution_count": 8,
     "metadata": {},
     "output_type": "execute_result"
    }
   ],
   "source": [
    "list2g = [7, 1, 2, 3, 4, 5, 6]\n",
    "is_rotation(list1, list2g)\n",
    "# should return True."
   ]
  },
  {
   "cell_type": "code",
   "execution_count": null,
   "id": "ca472704-33b7-4b09-b33e-4b0e29118180",
   "metadata": {},
   "outputs": [],
   "source": []
  }
 ],
 "metadata": {
  "kernelspec": {
   "display_name": "Python 3 (ipykernel)",
   "language": "python",
   "name": "python3"
  },
  "language_info": {
   "codemirror_mode": {
    "name": "ipython",
    "version": 3
   },
   "file_extension": ".py",
   "mimetype": "text/x-python",
   "name": "python",
   "nbconvert_exporter": "python",
   "pygments_lexer": "ipython3",
   "version": "3.10.11"
  }
 },
 "nbformat": 4,
 "nbformat_minor": 5
}
