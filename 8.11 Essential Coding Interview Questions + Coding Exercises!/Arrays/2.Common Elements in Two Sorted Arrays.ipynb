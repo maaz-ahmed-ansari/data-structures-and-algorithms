{
 "cells": [
  {
   "cell_type": "markdown",
   "id": "84696418-bcf2-4b81-a2bd-99c248a99f53",
   "metadata": {},
   "source": [
    "### Common Elements in Two Sorted Arrays (Python)\n",
    "\r\n",
    "Write a function that returns the common elements (as an array) between two sorted arrays of integers (ascending order).\r\n",
    "\r\n",
    "Example: The common elements between [1, 3, 4, 6, 7, 9] and [1, 2, 4, 5, 9, 10] are [1, 4, 9].\r\n",
    "\r\n",
    "REMINDER: We're going to use lists instead of arrays in Python for simplicity."
   ]
  },
  {
   "cell_type": "markdown",
   "id": "921fca20-259f-4539-98f4-2f3c5725f814",
   "metadata": {},
   "source": [
    "### Solution A"
   ]
  },
  {
   "cell_type": "code",
   "execution_count": 1,
   "id": "dd0d5040-4e8a-4979-b9d7-339a2679f619",
   "metadata": {},
   "outputs": [],
   "source": [
    "def common_elements(list1, list2):\n",
    "    result = []\n",
    "    \n",
    "    list1_dict = dict()\n",
    "    for i in list1:\n",
    "        list1_dict[i] = 1\n",
    "\n",
    "    for j in list2:\n",
    "        if j in list1:\n",
    "            result.append(j)\n",
    "\n",
    "    return result"
   ]
  },
  {
   "cell_type": "code",
   "execution_count": 2,
   "id": "d6fc3bf9-4d51-47de-abfe-9c7beab1f70d",
   "metadata": {},
   "outputs": [
    {
     "data": {
      "text/plain": [
       "[1, 4, 9]"
      ]
     },
     "execution_count": 2,
     "metadata": {},
     "output_type": "execute_result"
    }
   ],
   "source": [
    "list_a1 = [1, 3, 4, 6, 7, 9]\n",
    "list_a2 = [1, 2, 4, 5, 9, 10]\n",
    "common_elements(list_a1, list_a2)\n",
    "# should return [1, 4, 9]"
   ]
  },
  {
   "cell_type": "code",
   "execution_count": null,
   "id": "8b7dc379-1213-478d-a208-10de68ab1308",
   "metadata": {},
   "outputs": [],
   "source": []
  },
  {
   "cell_type": "markdown",
   "id": "68ba2135-9afc-4656-b9fe-db68dbd42259",
   "metadata": {},
   "source": [
    "### Solution B"
   ]
  },
  {
   "cell_type": "code",
   "execution_count": 3,
   "id": "e9795019-1899-4077-a63f-7bc8aaa292a2",
   "metadata": {},
   "outputs": [],
   "source": [
    "def common_elements(list1, list2):\n",
    "    i = 0\n",
    "    j = 0\n",
    "\n",
    "    len_list1 = len(list1)\n",
    "    len_list2 = len(list2)\n",
    "\n",
    "    result = []\n",
    "\n",
    "    while i < len_list1 and j < len_list2:\n",
    "        if list1[i] == list2[j]:\n",
    "            result.append(list1[i])\n",
    "            i +=1 \n",
    "            j += 1\n",
    "        elif list1[i] < list2[j]:\n",
    "            i += 1\n",
    "        else:\n",
    "            j += 1\n",
    "            \n",
    "    return result"
   ]
  },
  {
   "cell_type": "code",
   "execution_count": 4,
   "id": "026648dd-16ce-43b1-a155-d5d84fecda49",
   "metadata": {},
   "outputs": [
    {
     "data": {
      "text/plain": [
       "[1, 4, 9]"
      ]
     },
     "execution_count": 4,
     "metadata": {},
     "output_type": "execute_result"
    }
   ],
   "source": [
    "list_a1 = [1, 3, 4, 6, 7, 9]\n",
    "list_a2 = [1, 2, 4, 5, 9, 10]\n",
    "common_elements(list_a1, list_a2)\n",
    "# should return [1, 4, 9]"
   ]
  },
  {
   "cell_type": "code",
   "execution_count": 5,
   "id": "db39956f-76c7-458a-86bd-878ff031238f",
   "metadata": {},
   "outputs": [
    {
     "data": {
      "text/plain": [
       "[1, 2, 9, 10, 12]"
      ]
     },
     "execution_count": 5,
     "metadata": {},
     "output_type": "execute_result"
    }
   ],
   "source": [
    "list_b1 = [1, 2, 9, 10, 11, 12]\n",
    "list_b2 = [0, 1, 2, 3, 4, 5, 8, 9, 10, 12, 14, 15]\n",
    "common_elements(list_b1, list_b2)\n",
    "# should return [1, 2, 9, 10, 12]"
   ]
  },
  {
   "cell_type": "code",
   "execution_count": 6,
   "id": "ee1f6276-feca-45ea-b974-31cbb7401e74",
   "metadata": {},
   "outputs": [
    {
     "data": {
      "text/plain": [
       "[]"
      ]
     },
     "execution_count": 6,
     "metadata": {},
     "output_type": "execute_result"
    }
   ],
   "source": [
    "list_c1 = [0, 1, 2, 3, 4, 5]\n",
    "list_c2 = [6, 7, 8, 9, 10, 11]\n",
    "common_elements(list_c1, list_c2)\n",
    "# should return []"
   ]
  },
  {
   "cell_type": "code",
   "execution_count": null,
   "id": "00da6415-c866-4572-aaa3-82cd13772fb4",
   "metadata": {},
   "outputs": [],
   "source": []
  }
 ],
 "metadata": {
  "kernelspec": {
   "display_name": "Python 3 (ipykernel)",
   "language": "python",
   "name": "python3"
  },
  "language_info": {
   "codemirror_mode": {
    "name": "ipython",
    "version": 3
   },
   "file_extension": ".py",
   "mimetype": "text/x-python",
   "name": "python",
   "nbconvert_exporter": "python",
   "pygments_lexer": "ipython3",
   "version": "3.10.11"
  }
 },
 "nbformat": 4,
 "nbformat_minor": 5
}
