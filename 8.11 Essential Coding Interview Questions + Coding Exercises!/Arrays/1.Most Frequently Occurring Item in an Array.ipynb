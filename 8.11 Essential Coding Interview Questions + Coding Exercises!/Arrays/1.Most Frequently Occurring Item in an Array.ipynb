{
 "cells": [
  {
   "cell_type": "markdown",
   "id": "333bcf42-ecac-4f3c-a6dd-26a1d7b6b02c",
   "metadata": {},
   "source": [
    "###  Most Frequently Occurring Item in an Array (Python)\n",
    "\r\n",
    "Find the most frequently occurring item in an array.\r\n",
    "\r\n",
    "Example: The most frequently occurring item in [1, 3, 1, 3, 2, 1] is 1.\r\n",
    "\r\n",
    "If you're given an empty array, you should return null (in Java) or None (in Python).\r\n",
    "\r\n",
    "You can assume that there is always a single, unique value that appears most frequently unless the array is empty.  For instance, you won't be given an array such as [1, 1, 2, 2].\r\n",
    "\r\n",
    "NOTE: We're going to use lists instead of arrays in Python for simplicity."
   ]
  },
  {
   "cell_type": "markdown",
   "id": "586212ea-31d0-4e45-8194-14d646ac63a4",
   "metadata": {},
   "source": [
    "### Solution"
   ]
  },
  {
   "cell_type": "code",
   "execution_count": 1,
   "id": "31e18c97-21d7-43f8-8779-087a97000b29",
   "metadata": {},
   "outputs": [],
   "source": [
    "def most_frequent(given_list):\n",
    "\n",
    "    max_count = 0\n",
    "    max_item = None\n",
    "\n",
    "    map_occurences = dict()\n",
    "\n",
    "    for element in given_list:\n",
    "        if element not in map_occurences:\n",
    "            map_occurences[element] = 1\n",
    "        else:\n",
    "            map_occurences[element] += 1\n",
    "\n",
    "        if map_occurences[element] > max_count:\n",
    "            max_count = map_occurences[element]\n",
    "            max_item = element\n",
    "\n",
    "    return max_item"
   ]
  },
  {
   "cell_type": "code",
   "execution_count": 2,
   "id": "71f1563b-2c90-4b64-906e-83e3042028fa",
   "metadata": {},
   "outputs": [
    {
     "name": "stdout",
     "output_type": "stream",
     "text": [
      "1\n"
     ]
    }
   ],
   "source": [
    "list1 = [1, 3, 1, 3, 2, 1]\n",
    "print(most_frequent(list1))"
   ]
  },
  {
   "cell_type": "code",
   "execution_count": 3,
   "id": "9ec2856b-f131-4414-a614-1431f7da059e",
   "metadata": {},
   "outputs": [
    {
     "name": "stdout",
     "output_type": "stream",
     "text": [
      "3\n"
     ]
    }
   ],
   "source": [
    "list2 = [3, 3, 1, 3, 2, 1]\n",
    "print(most_frequent(list2))"
   ]
  },
  {
   "cell_type": "code",
   "execution_count": 4,
   "id": "2491e2fd-4bb1-4bc6-8fa6-338d73b96966",
   "metadata": {},
   "outputs": [
    {
     "name": "stdout",
     "output_type": "stream",
     "text": [
      "None\n"
     ]
    }
   ],
   "source": [
    "list3 = []\n",
    "print(most_frequent(list3))"
   ]
  },
  {
   "cell_type": "code",
   "execution_count": 5,
   "id": "8939e622-6ea4-4743-88e3-4c30925da805",
   "metadata": {},
   "outputs": [
    {
     "name": "stdout",
     "output_type": "stream",
     "text": [
      "0\n"
     ]
    }
   ],
   "source": [
    "list4 = [0]\n",
    "print(most_frequent(list4))"
   ]
  },
  {
   "cell_type": "code",
   "execution_count": 6,
   "id": "a681b43e-c543-4562-9385-791f4d52f282",
   "metadata": {},
   "outputs": [
    {
     "name": "stdout",
     "output_type": "stream",
     "text": [
      "-1\n"
     ]
    }
   ],
   "source": [
    "list5 = [0, -1, 10, 10, -1, 10, -1, -1, -1, 1]\n",
    "print(most_frequent(list5))"
   ]
  },
  {
   "cell_type": "code",
   "execution_count": null,
   "id": "f34bef95-85ec-476c-b53d-b93441f24f30",
   "metadata": {},
   "outputs": [],
   "source": []
  }
 ],
 "metadata": {
  "kernelspec": {
   "display_name": "Python 3 (ipykernel)",
   "language": "python",
   "name": "python3"
  },
  "language_info": {
   "codemirror_mode": {
    "name": "ipython",
    "version": 3
   },
   "file_extension": ".py",
   "mimetype": "text/x-python",
   "name": "python",
   "nbconvert_exporter": "python",
   "pygments_lexer": "ipython3",
   "version": "3.10.11"
  }
 },
 "nbformat": 4,
 "nbformat_minor": 5
}
