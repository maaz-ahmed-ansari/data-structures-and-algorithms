{
 "cells": [
  {
   "cell_type": "code",
   "execution_count": 1,
   "id": "e6b83b69",
   "metadata": {},
   "outputs": [],
   "source": [
    "# An array is a collection of items of same types\n",
    "# e.g.\n",
    "\n",
    "a = [5, -2, 300, 20]\n",
    "\n",
    "b = [\"yeahh\", \"ouch\", \"ahhh\"]"
   ]
  },
  {
   "cell_type": "code",
   "execution_count": 2,
   "id": "d01f4bb8",
   "metadata": {},
   "outputs": [],
   "source": [
    "# it's not usual to have array of different types\n",
    "# e.g.\n",
    "\n",
    "c = [\"chhh\", 3, 2, \"ahhh\"]"
   ]
  },
  {
   "cell_type": "code",
   "execution_count": 3,
   "id": "f75becbf",
   "metadata": {},
   "outputs": [],
   "source": [
    "# think of array as a box with partitions in it\n",
    "# can change value at particular index\n",
    "# zero indexed in some programming languages"
   ]
  },
  {
   "cell_type": "code",
   "execution_count": 4,
   "id": "1052b6a4",
   "metadata": {},
   "outputs": [],
   "source": [
    "# Memory, Storage\n",
    "# a bit = 1 or 0  -> 32 bits (or 32 bits) for int\n",
    "# a byte = a small unit of data = 8 bits\n",
    "\n",
    "# memory = a long tape of bytes\n",
    "# Yo can store data on eahc byte\n",
    "\n",
    "# Computer needs a way to find the bytes easily\n",
    "# since you want to store and retreive data \n",
    "# stored in the memory\n",
    "\n",
    "# Computer assign address to each byte and the \n",
    "# address is represented by a number\n",
    "# operating system software takes care of addresses\n",
    "\n",
    "# address starts at somepoint and consecutive address is \n",
    "# asigned to consecutive memory location\n",
    "\n",
    "# data is stored at consecutive memory addresses/location\n",
    "# e.g. an int (for 32 bit system), is onverted into 32 bit \n",
    "# equivalent and then stored in 4 consecutive bytes\n",
    "# ad if we have one more int after firs one, then\n",
    "# it's stored next to 1st ineger address\n",
    "\n",
    "m = 1\n",
    "n = 3"
   ]
  },
  {
   "cell_type": "code",
   "execution_count": 5,
   "id": "b328c252",
   "metadata": {},
   "outputs": [],
   "source": [
    "# computer needs different number of bytes \n",
    "# to store different type of data"
   ]
  },
  {
   "cell_type": "code",
   "execution_count": 6,
   "id": "7a5fc9fa",
   "metadata": {},
   "outputs": [],
   "source": [
    "# How array of integers is stored in memory\n",
    "# elements of array are stored in contiguous memory loation\n",
    "# i.e. next to each there consecutively"
   ]
  },
  {
   "cell_type": "code",
   "execution_count": 7,
   "id": "6acbf83c",
   "metadata": {},
   "outputs": [],
   "source": [
    "# Why can't we store more values in an existing array?\n",
    "# After array is created, the memory next to it may be occupied by some other data\n",
    "# So if we want to increase length of array, we can not\n",
    "# as array is stored at contiguous memory location\n",
    "\n",
    "# One way is to cretae new array and store all existing and new items in it\n",
    "# and when next time, if require repeat this again\n",
    "# This is called resizing array\n",
    "\n",
    "# In Python, array is auto-resizable or auto expanding \n",
    "# called \"List\"\n",
    "\n",
    "# In Java auto resizable array is \"ArrayList\""
   ]
  }
 ],
 "metadata": {
  "kernelspec": {
   "display_name": "Python 3 (ipykernel)",
   "language": "python",
   "name": "python3"
  },
  "language_info": {
   "codemirror_mode": {
    "name": "ipython",
    "version": 3
   },
   "file_extension": ".py",
   "mimetype": "text/x-python",
   "name": "python",
   "nbconvert_exporter": "python",
   "pygments_lexer": "ipython3",
   "version": "3.10.11"
  }
 },
 "nbformat": 4,
 "nbformat_minor": 5
}
