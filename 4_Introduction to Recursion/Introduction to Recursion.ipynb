{
 "cells": [
  {
   "cell_type": "code",
   "execution_count": 1,
   "id": "a076a88d",
   "metadata": {},
   "outputs": [],
   "source": [
    "# Recursion =\n",
    "# a way of solving a problem by having a function call itself"
   ]
  },
  {
   "cell_type": "code",
   "execution_count": 2,
   "id": "bd8004c5",
   "metadata": {},
   "outputs": [],
   "source": [
    "# Example n!\n",
    "\n",
    "def fact(n):\n",
    "    # assuming that n is a positive integer or 0\n",
    "    if n >= 1:\n",
    "        return n * fact(n - 1)\n",
    "    else:\n",
    "        return 1"
   ]
  },
  {
   "cell_type": "code",
   "execution_count": 3,
   "id": "51d0d0e6",
   "metadata": {},
   "outputs": [
    {
     "name": "stdout",
     "output_type": "stream",
     "text": [
      "0! = 1\n"
     ]
    }
   ],
   "source": [
    "print(\"0! =\", fact(0))"
   ]
  },
  {
   "cell_type": "code",
   "execution_count": 4,
   "id": "47456775",
   "metadata": {},
   "outputs": [
    {
     "name": "stdout",
     "output_type": "stream",
     "text": [
      "1! = 1\n"
     ]
    }
   ],
   "source": [
    "print(\"1! =\", fact(1))"
   ]
  },
  {
   "cell_type": "code",
   "execution_count": 5,
   "id": "157a8d0a",
   "metadata": {},
   "outputs": [
    {
     "name": "stdout",
     "output_type": "stream",
     "text": [
      "2! = 2\n"
     ]
    }
   ],
   "source": [
    "print(\"2! =\", fact(2))"
   ]
  },
  {
   "cell_type": "code",
   "execution_count": 6,
   "id": "dde589c1",
   "metadata": {},
   "outputs": [
    {
     "name": "stdout",
     "output_type": "stream",
     "text": [
      "3! = 6\n"
     ]
    }
   ],
   "source": [
    "print(\"3! =\", fact(3))"
   ]
  },
  {
   "cell_type": "code",
   "execution_count": 7,
   "id": "f0514158",
   "metadata": {},
   "outputs": [
    {
     "name": "stdout",
     "output_type": "stream",
     "text": [
      "4! = 24\n"
     ]
    }
   ],
   "source": [
    "print(\"4! =\", fact(4))"
   ]
  },
  {
   "cell_type": "code",
   "execution_count": 8,
   "id": "abe1c130",
   "metadata": {},
   "outputs": [],
   "source": [
    "# Example: fibonacci sequence\n",
    "\n",
    "def fib(n):\n",
    "    # assuming that n is a positive integer\n",
    "    if n >= 3:\n",
    "        return fib(n-1) + fib(n-2)\n",
    "    else:\n",
    "        return 1"
   ]
  },
  {
   "cell_type": "code",
   "execution_count": 9,
   "id": "e09f1a29",
   "metadata": {},
   "outputs": [
    {
     "name": "stdout",
     "output_type": "stream",
     "text": [
      "fib(1) = 1\n"
     ]
    }
   ],
   "source": [
    "print(\"fib(1) =\", fib(1))"
   ]
  },
  {
   "cell_type": "code",
   "execution_count": 10,
   "id": "b8285243",
   "metadata": {},
   "outputs": [
    {
     "name": "stdout",
     "output_type": "stream",
     "text": [
      "fib(2) = 1\n"
     ]
    }
   ],
   "source": [
    "print(\"fib(2) =\", fib(2))"
   ]
  },
  {
   "cell_type": "code",
   "execution_count": 11,
   "id": "f2aefb71",
   "metadata": {},
   "outputs": [
    {
     "name": "stdout",
     "output_type": "stream",
     "text": [
      "fib(3) = 2\n"
     ]
    }
   ],
   "source": [
    "print(\"fib(3) =\", fib(3))"
   ]
  },
  {
   "cell_type": "code",
   "execution_count": 12,
   "id": "5116e160",
   "metadata": {},
   "outputs": [
    {
     "name": "stdout",
     "output_type": "stream",
     "text": [
      "fib(4) = 3\n"
     ]
    }
   ],
   "source": [
    "print(\"fib(4) =\", fib(4))"
   ]
  },
  {
   "cell_type": "code",
   "execution_count": 13,
   "id": "deb8a190",
   "metadata": {},
   "outputs": [
    {
     "name": "stdout",
     "output_type": "stream",
     "text": [
      "fib(5) = 5\n"
     ]
    }
   ],
   "source": [
    "print(\"fib(5) =\", fib(5))"
   ]
  },
  {
   "cell_type": "code",
   "execution_count": 14,
   "id": "8a5cbbee",
   "metadata": {},
   "outputs": [],
   "source": [
    "# Note: A condition in a recursive function, where function \n",
    "# does not call itself and just returnis called \"a base case\"\n",
    "# and when it calls the function itself is called \"a recursive case\""
   ]
  },
  {
   "cell_type": "code",
   "execution_count": null,
   "id": "07d1ceff",
   "metadata": {},
   "outputs": [],
   "source": []
  }
 ],
 "metadata": {
  "kernelspec": {
   "display_name": "Python 3 (ipykernel)",
   "language": "python",
   "name": "python3"
  },
  "language_info": {
   "codemirror_mode": {
    "name": "ipython",
    "version": 3
   },
   "file_extension": ".py",
   "mimetype": "text/x-python",
   "name": "python",
   "nbconvert_exporter": "python",
   "pygments_lexer": "ipython3",
   "version": "3.11.2"
  }
 },
 "nbformat": 4,
 "nbformat_minor": 5
}
