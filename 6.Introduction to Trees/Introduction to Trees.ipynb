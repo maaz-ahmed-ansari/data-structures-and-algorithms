{
 "cells": [
  {
   "cell_type": "code",
   "execution_count": 1,
   "id": "ca42e362",
   "metadata": {},
   "outputs": [],
   "source": [
    "# Tree\n",
    "# Similar to LL, except a node can link to at most 3 other node\n",
    "\n",
    "# Binary tree - \n",
    "# when tree has at most two children is called a binary tree\n",
    "\n",
    "# Note: no more than onde can have same child\n",
    "# Note: can't be a cycle\n",
    "# Note: From root node there is  a way to go to every other node\n",
    "# Note: There is no parent for root node"
   ]
  },
  {
   "cell_type": "code",
   "execution_count": 2,
   "id": "0fb9d85f",
   "metadata": {},
   "outputs": [],
   "source": [
    "class Node:\n",
    "    def __init__(self, data):\n",
    "        self.data = data\n",
    "        self.left = None\n",
    "        self.right = None\n",
    "    \n",
    "def sum_values(root):\n",
    "    if root == None:\n",
    "        return 0\n",
    "    return root.data + sum_values(root.left) + sum_values(root.right)"
   ]
  },
  {
   "cell_type": "code",
   "execution_count": 3,
   "id": "ef0ca005",
   "metadata": {},
   "outputs": [],
   "source": [
    "#  Our example tree looks like this:\n",
    "#         2\n",
    "#       /   \\\n",
    "#      3     4\n",
    "#     / \\\n",
    "#    5   6\n",
    "\n",
    "node2 = Node(2)\n",
    "node3 = Node(3)\n",
    "node4 = Node(4)\n",
    "node5 = Node(5)\n",
    "node6 = Node(6)\n",
    "\n",
    "node2.left = node3\n",
    "node2.right = node4\n",
    "node3.left = node5\n",
    "node3.right = node6"
   ]
  },
  {
   "cell_type": "code",
   "execution_count": 4,
   "id": "bad978e4",
   "metadata": {},
   "outputs": [
    {
     "name": "stdout",
     "output_type": "stream",
     "text": [
      "Sum of all values of this tree is (should print 20):\n",
      "20\n"
     ]
    }
   ],
   "source": [
    "print(\"Sum of all values of this tree is (should print 20):\")\n",
    "print(sum_values(node2))"
   ]
  },
  {
   "cell_type": "code",
   "execution_count": null,
   "id": "13bba0c1",
   "metadata": {},
   "outputs": [],
   "source": []
  }
 ],
 "metadata": {
  "kernelspec": {
   "display_name": "Python 3 (ipykernel)",
   "language": "python",
   "name": "python3"
  },
  "language_info": {
   "codemirror_mode": {
    "name": "ipython",
    "version": 3
   },
   "file_extension": ".py",
   "mimetype": "text/x-python",
   "name": "python",
   "nbconvert_exporter": "python",
   "pygments_lexer": "ipython3",
   "version": "3.11.2"
  }
 },
 "nbformat": 4,
 "nbformat_minor": 5
}
