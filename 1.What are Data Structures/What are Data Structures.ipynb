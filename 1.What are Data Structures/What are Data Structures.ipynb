{
 "cells": [
  {
   "cell_type": "code",
   "execution_count": 1,
   "id": "31890758",
   "metadata": {},
   "outputs": [],
   "source": [
    "# Data structures =\n",
    "# different ways of storing data on your computer"
   ]
  },
  {
   "cell_type": "code",
   "execution_count": 2,
   "id": "816012cd",
   "metadata": {},
   "outputs": [],
   "source": [
    "# Algorithms = \n",
    "# operations on different data structures +\n",
    "# sets of instructions for executing them"
   ]
  },
  {
   "cell_type": "code",
   "execution_count": 3,
   "id": "bfb2098e",
   "metadata": {},
   "outputs": [],
   "source": [
    "# use of particular Data Structures and algorithm \n",
    "# depends on situation and use case"
   ]
  },
  {
   "cell_type": "code",
   "execution_count": null,
   "id": "d3829c2d",
   "metadata": {},
   "outputs": [],
   "source": []
  }
 ],
 "metadata": {
  "kernelspec": {
   "display_name": "Python 3 (ipykernel)",
   "language": "python",
   "name": "python3"
  },
  "language_info": {
   "codemirror_mode": {
    "name": "ipython",
    "version": 3
   },
   "file_extension": ".py",
   "mimetype": "text/x-python",
   "name": "python",
   "nbconvert_exporter": "python",
   "pygments_lexer": "ipython3",
   "version": "3.10.9"
  }
 },
 "nbformat": 4,
 "nbformat_minor": 5
}
